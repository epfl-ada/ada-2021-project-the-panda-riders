{
 "cells": [
  {
   "cell_type": "code",
   "execution_count": 20,
   "metadata": {},
   "outputs": [
    {
     "name": "stdout",
     "output_type": "stream",
     "text": [
      "The autoreload extension is already loaded. To reload it, use:\n",
      "  %reload_ext autoreload\n"
     ]
    }
   ],
   "source": [
    "# Imports you may need\n",
    "import seaborn as sns\n",
    "from IPython.display import display, HTML\n",
    "import matplotlib\n",
    "import matplotlib.pyplot as plt\n",
    "import scipy.stats as stats\n",
    "import pandas as pd\n",
    "import numpy as np\n",
    "import yfinance as yf\n",
    "import json\n",
    "import bz2\n",
    "from dataloader import *\n",
    "from finance import *\n",
    "%load_ext autoreload\n",
    "%autoreload 2"
   ]
  },
  {
   "cell_type": "code",
   "execution_count": 21,
   "metadata": {},
   "outputs": [],
   "source": [
    "# Cellule pour importer les questions qu'on aura fait individuellement, et sera supprimée à la fin.\n",
    "\n",
    "from section1 import *\n",
    "from finance import applestock\n",
    "from quotebankexploration import *"
   ]
  },
  {
   "cell_type": "code",
   "execution_count": 43,
   "metadata": {},
   "outputs": [],
   "source": [
    "quotes = load_quotes(2018, limit = 1000, columns = [\"quoteID\", \"speaker\",\"date\"], filtered = False)"
   ]
  },
  {
   "cell_type": "code",
   "execution_count": 44,
   "metadata": {},
   "outputs": [
    {
     "data": {
      "text/html": [
       "<div>\n",
       "<style scoped>\n",
       "    .dataframe tbody tr th:only-of-type {\n",
       "        vertical-align: middle;\n",
       "    }\n",
       "\n",
       "    .dataframe tbody tr th {\n",
       "        vertical-align: top;\n",
       "    }\n",
       "\n",
       "    .dataframe thead th {\n",
       "        text-align: right;\n",
       "    }\n",
       "</style>\n",
       "<table border=\"1\" class=\"dataframe\">\n",
       "  <thead>\n",
       "    <tr style=\"text-align: right;\">\n",
       "      <th></th>\n",
       "      <th>quoteID</th>\n",
       "      <th>speaker</th>\n",
       "      <th>date</th>\n",
       "    </tr>\n",
       "  </thead>\n",
       "  <tbody>\n",
       "    <tr>\n",
       "      <th>0</th>\n",
       "      <td>2018-06-30-000005</td>\n",
       "      <td>Marcus Eriksen</td>\n",
       "      <td>2018-06-30 07:00:00</td>\n",
       "    </tr>\n",
       "    <tr>\n",
       "      <th>1</th>\n",
       "      <td>2018-12-06-000021</td>\n",
       "      <td>James Marsh</td>\n",
       "      <td>2018-12-06 12:00:34</td>\n",
       "    </tr>\n",
       "    <tr>\n",
       "      <th>2</th>\n",
       "      <td>2018-04-25-000107</td>\n",
       "      <td>None</td>\n",
       "      <td>2018-04-25 03:48:37</td>\n",
       "    </tr>\n",
       "    <tr>\n",
       "      <th>3</th>\n",
       "      <td>2018-06-28-000032</td>\n",
       "      <td>None</td>\n",
       "      <td>2018-06-28 04:01:03</td>\n",
       "    </tr>\n",
       "    <tr>\n",
       "      <th>4</th>\n",
       "      <td>2018-09-15-000010</td>\n",
       "      <td>None</td>\n",
       "      <td>2018-09-15 00:05:14</td>\n",
       "    </tr>\n",
       "    <tr>\n",
       "      <th>...</th>\n",
       "      <td>...</td>\n",
       "      <td>...</td>\n",
       "      <td>...</td>\n",
       "    </tr>\n",
       "    <tr>\n",
       "      <th>995</th>\n",
       "      <td>2018-10-03-011778</td>\n",
       "      <td>None</td>\n",
       "      <td>2018-10-03 23:59:04</td>\n",
       "    </tr>\n",
       "    <tr>\n",
       "      <th>996</th>\n",
       "      <td>2018-07-20-008457</td>\n",
       "      <td>None</td>\n",
       "      <td>2018-07-20 16:07:17</td>\n",
       "    </tr>\n",
       "    <tr>\n",
       "      <th>997</th>\n",
       "      <td>2018-04-30-011399</td>\n",
       "      <td>None</td>\n",
       "      <td>2018-04-30 00:00:00</td>\n",
       "    </tr>\n",
       "    <tr>\n",
       "      <th>998</th>\n",
       "      <td>2018-07-31-009421</td>\n",
       "      <td>None</td>\n",
       "      <td>2018-07-31 07:00:11</td>\n",
       "    </tr>\n",
       "    <tr>\n",
       "      <th>999</th>\n",
       "      <td>2018-07-10-009404</td>\n",
       "      <td>Shabnam Hashmi</td>\n",
       "      <td>2018-07-10 21:18:23</td>\n",
       "    </tr>\n",
       "  </tbody>\n",
       "</table>\n",
       "<p>1000 rows × 3 columns</p>\n",
       "</div>"
      ],
      "text/plain": [
       "               quoteID         speaker                 date\n",
       "0    2018-06-30-000005  Marcus Eriksen  2018-06-30 07:00:00\n",
       "1    2018-12-06-000021     James Marsh  2018-12-06 12:00:34\n",
       "2    2018-04-25-000107            None  2018-04-25 03:48:37\n",
       "3    2018-06-28-000032            None  2018-06-28 04:01:03\n",
       "4    2018-09-15-000010            None  2018-09-15 00:05:14\n",
       "..                 ...             ...                  ...\n",
       "995  2018-10-03-011778            None  2018-10-03 23:59:04\n",
       "996  2018-07-20-008457            None  2018-07-20 16:07:17\n",
       "997  2018-04-30-011399            None  2018-04-30 00:00:00\n",
       "998  2018-07-31-009421            None  2018-07-31 07:00:11\n",
       "999  2018-07-10-009404  Shabnam Hashmi  2018-07-10 21:18:23\n",
       "\n",
       "[1000 rows x 3 columns]"
      ]
     },
     "execution_count": 44,
     "metadata": {},
     "output_type": "execute_result"
    }
   ],
   "source": [
    "quotes"
   ]
  },
  {
   "cell_type": "markdown",
   "metadata": {},
   "source": [
    "## Quotebank Data Exploration"
   ]
  },
  {
   "cell_type": "code",
   "execution_count": null,
   "metadata": {},
   "outputs": [],
   "source": [
    "quotebank_exploration(quotes)"
   ]
  },
  {
   "cell_type": "markdown",
   "metadata": {},
   "source": [
    "The dataset comprises the following columns : \n",
    " * `quoteID`: Primary key of the quotation (format: \"YYYY-MM-DD-{increasing int:06d}\").\n",
    " * `quotation`: Text of the longest encountered original form of the quotation.\n",
    " * `speaker`: Selected most likely speaker. This matches the first speaker entry in `probas`. If none of the speakers is selected, the speaker is defined as \"None\".\n",
    " * `qids`: Wikidata IDs of all aliases that match the selected speaker. If no Wikidata IDs is found, the value is '[]'.\n",
    " * `date`: Earliest occurrence date of any version of the quotation.\n",
    " * `numOccurrences`: Number of time this quotation occurs in the articles.\n",
    " * `probas`: Array representing the probabilities of each speaker having uttered the quotation.\n",
    " * `urls`: List of links to the original articles containing the quotation. \n",
    " * `phase`: Corresponding phase of the data in which the quotation first occurred (A-E)."
   ]
  },
  {
   "cell_type": "markdown",
   "metadata": {},
   "source": [
    "## Quotebank Data Pre-processing"
   ]
  },
  {
   "cell_type": "code",
   "execution_count": null,
   "metadata": {},
   "outputs": [],
   "source": [
    "obama_quotes = filter_quotes(r\"data/quotes-2008.json.bz2\", speakers = ['obama'], keywords=[\"yes we can\"], chunknum = 1000, save=\"obama_quotes\")"
   ]
  },
  {
   "cell_type": "markdown",
   "metadata": {},
   "source": [
    "# Stock\n",
    "This is an example"
   ]
  },
  {
   "cell_type": "code",
   "execution_count": null,
   "metadata": {},
   "outputs": [],
   "source": [
    "applestock()"
   ]
  },
  {
   "cell_type": "code",
   "execution_count": 11,
   "metadata": {},
   "outputs": [],
   "source": [
    "keywords_1_word = [\"iphone\", \"ipad\", \"imac\", \"ipod\", \"macbook\", \"mac\", \"airpods\", \\\n",
    "        \"lightening\", \"magsafe\", \"aapl\", \"iwatch\", \"itunes\", \"homepod\", \"macos\", \"ios\", \"ipados\", \\\n",
    "        \"watchos\", \"tvos\", \"wwdc\", \"siri\", \"facetime\", \"appstore\", \"icloud\", \"iphones\"]\n",
    "\n",
    "keywords_2_words = [\"apple watch\", \"steve jobs\", \"tim cook\", \"face id\", \\\n",
    "        \"pro display xdr\", \"katherine adams\", \"eddy cue\", \"craig federighi\"]\n",
    "\n",
    "keywords_capital = [\"Apple\"]\n",
    "\n",
    "black_list = [\"Big Apple\"]\n",
    "\n",
    "keywords = {\"One word\": keywords_1_word, \"Two words\": keywords_2_words, \"Capital words\": keywords_capital, \"Black list\": black_list}\n",
    "\n",
    "speakers = [\"steve jobs\", \"tim cook\", \"katherine adams\", \"eddy cue\", \"craig federighi\", \"john giannandrea\", \"greg joswiak\", \\\n",
    "    \"sabih khan\", \"luca maestri\", \"deirdre o'brien\", \"johny srouji\", \"john ternus\", \"jeff williams\", \"lisa jakson\", \\\n",
    "    \"stella low\", \"isabel ge mahe\", \"tor myhren\", \"adrian perica\", \"phil schiller\", \"arthur levinson\", \"james bell\", \\\n",
    "    \"albert gore\", \"andrea jung\", \"monica lozano\", \"ronald sugar\", \"susan wagner\"]"
   ]
  },
  {
   "cell_type": "code",
   "execution_count": 18,
   "metadata": {},
   "outputs": [
    {
     "data": {
      "application/vnd.jupyter.widget-view+json": {
       "model_id": "6abd8dcbb8334615a4bba88497b62886",
       "version_major": 2,
       "version_minor": 0
      },
      "text/plain": [
       "0it [00:00, ?it/s]"
      ]
     },
     "metadata": {},
     "output_type": "display_data"
    },
    {
     "name": "stdout",
     "output_type": "stream",
     "text": [
      "INFO: 4581 citations have been kept over  5244449  total number of citations.\n"
     ]
    }
   ],
   "source": [
    "\n",
    "years_gas = range(2008, 2014)\n",
    "years_raph = range(2016, 2019)\n",
    "\n",
    "for year in years_raph:\n",
    "    filter_quotes(f\"data/quotes-{str(year)}.json.bz2\", speakers = speakers, keywords = keywords, save = f\"filtered_quotes_{str(year)}\")"
   ]
  },
  {
   "cell_type": "code",
   "execution_count": null,
   "metadata": {},
   "outputs": [],
   "source": []
  }
 ],
 "metadata": {
  "interpreter": {
   "hash": "c74d7e7d97113514de40e96121eb5ba24204156bae1740c3c15b4c118766a645"
  },
  "kernelspec": {
   "display_name": "Python 3",
   "language": "python",
   "name": "python3"
  },
  "language_info": {
   "codemirror_mode": {
    "name": "ipython",
    "version": 3
   },
   "file_extension": ".py",
   "mimetype": "text/x-python",
   "name": "python",
   "nbconvert_exporter": "python",
   "pygments_lexer": "ipython3",
   "version": "3.9.7"
  }
 },
 "nbformat": 4,
 "nbformat_minor": 2
}
