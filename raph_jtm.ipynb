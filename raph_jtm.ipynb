{
 "cells": [
  {
   "cell_type": "code",
   "execution_count": 103,
   "metadata": {},
   "outputs": [
    {
     "name": "stdout",
     "output_type": "stream",
     "text": [
      "The autoreload extension is already loaded. To reload it, use:\n",
      "  %reload_ext autoreload\n"
     ]
    }
   ],
   "source": [
    "# Imports you may need\n",
    "from dataloader import *\n",
    "from finance import *\n",
    "import pandas as pd\n",
    "import pageviewapi \n",
    "\n",
    "from finance import stock, compare\n",
    "from quotebankexploration import *\n",
    "from wikipedia import *\n",
    "\n",
    "%load_ext autoreload\n",
    "%autoreload 2"
   ]
  },
  {
   "cell_type": "code",
   "execution_count": 126,
   "metadata": {},
   "outputs": [],
   "source": [
    "# Get some data frames\n",
    "wiki_data = concat_wiki_files()\n",
    "filtered_quotes = get_filtered_quotes()\n",
    "speakers_id = pd.DataFrame(get_speakers_ids(filtered_quotes))\n",
    "speakers_labels = get_speakers_labels()"
   ]
  },
  {
   "cell_type": "code",
   "execution_count": 140,
   "metadata": {},
   "outputs": [],
   "source": [
    "year = 2015\n",
    "\n",
    "test = speakers_labels.head(10)\n",
    "\n",
    "test[str(year)] = test.label.apply(lambda label: get_page_views_per_year(label, year))"
   ]
  },
  {
   "cell_type": "code",
   "execution_count": 143,
   "metadata": {},
   "outputs": [
    {
     "data": {
      "text/html": [
       "<div>\n",
       "<style scoped>\n",
       "    .dataframe tbody tr th:only-of-type {\n",
       "        vertical-align: middle;\n",
       "    }\n",
       "\n",
       "    .dataframe tbody tr th {\n",
       "        vertical-align: top;\n",
       "    }\n",
       "\n",
       "    .dataframe thead th {\n",
       "        text-align: right;\n",
       "    }\n",
       "</style>\n",
       "<table border=\"1\" class=\"dataframe\">\n",
       "  <thead>\n",
       "    <tr style=\"text-align: right;\">\n",
       "      <th></th>\n",
       "      <th>speaker</th>\n",
       "      <th>qids</th>\n",
       "      <th>label</th>\n",
       "      <th>2015</th>\n",
       "    </tr>\n",
       "  </thead>\n",
       "  <tbody>\n",
       "    <tr>\n",
       "      <th>0</th>\n",
       "      <td>steve jobs</td>\n",
       "      <td>[Q19837]</td>\n",
       "      <td>Steve Jobs</td>\n",
       "      <td>6365607.0</td>\n",
       "    </tr>\n",
       "    <tr>\n",
       "      <th>1</th>\n",
       "      <td>ken whisenhunt</td>\n",
       "      <td>[Q1758635]</td>\n",
       "      <td>Ken Whisenhunt</td>\n",
       "      <td>135492.0</td>\n",
       "    </tr>\n",
       "    <tr>\n",
       "      <th>2</th>\n",
       "      <td>robert macmillan</td>\n",
       "      <td>[Q21453558, Q28094302]</td>\n",
       "      <td>Robert MacMillan</td>\n",
       "      <td>498.0</td>\n",
       "    </tr>\n",
       "    <tr>\n",
       "      <th>3</th>\n",
       "      <td>steve howard</td>\n",
       "      <td>[Q23670647, Q2457386, Q7612886]</td>\n",
       "      <td>Steve Howard</td>\n",
       "      <td>9700.0</td>\n",
       "    </tr>\n",
       "    <tr>\n",
       "      <th>4</th>\n",
       "      <td>doug martin</td>\n",
       "      <td>[Q18685889, Q27995830, Q3037945, Q3714598, Q53...</td>\n",
       "      <td>Doug Martin</td>\n",
       "      <td>3276.0</td>\n",
       "    </tr>\n",
       "    <tr>\n",
       "      <th>5</th>\n",
       "      <td>eddy cue</td>\n",
       "      <td>[Q224628]</td>\n",
       "      <td>Eddy Cue</td>\n",
       "      <td>30460.0</td>\n",
       "    </tr>\n",
       "    <tr>\n",
       "      <th>6</th>\n",
       "      <td>tom harman</td>\n",
       "      <td>[Q7816093]</td>\n",
       "      <td>Tom Harman</td>\n",
       "      <td>1829.0</td>\n",
       "    </tr>\n",
       "    <tr>\n",
       "      <th>7</th>\n",
       "      <td>none</td>\n",
       "      <td>[]</td>\n",
       "      <td>None</td>\n",
       "      <td>NaN</td>\n",
       "    </tr>\n",
       "    <tr>\n",
       "      <th>8</th>\n",
       "      <td>trevor beattie</td>\n",
       "      <td>[Q25190178, Q7839055]</td>\n",
       "      <td>Trevor Beattie</td>\n",
       "      <td>2640.0</td>\n",
       "    </tr>\n",
       "    <tr>\n",
       "      <th>9</th>\n",
       "      <td>michael phelps</td>\n",
       "      <td>[Q39562]</td>\n",
       "      <td>Michael Phelps</td>\n",
       "      <td>713332.0</td>\n",
       "    </tr>\n",
       "  </tbody>\n",
       "</table>\n",
       "</div>"
      ],
      "text/plain": [
       "            speaker                                               qids  \\\n",
       "0        steve jobs                                           [Q19837]   \n",
       "1    ken whisenhunt                                         [Q1758635]   \n",
       "2  robert macmillan                             [Q21453558, Q28094302]   \n",
       "3      steve howard                    [Q23670647, Q2457386, Q7612886]   \n",
       "4       doug martin  [Q18685889, Q27995830, Q3037945, Q3714598, Q53...   \n",
       "5          eddy cue                                          [Q224628]   \n",
       "6        tom harman                                         [Q7816093]   \n",
       "7              none                                                 []   \n",
       "8    trevor beattie                              [Q25190178, Q7839055]   \n",
       "9    michael phelps                                           [Q39562]   \n",
       "\n",
       "              label       2015  \n",
       "0        Steve Jobs  6365607.0  \n",
       "1    Ken Whisenhunt   135492.0  \n",
       "2  Robert MacMillan      498.0  \n",
       "3      Steve Howard     9700.0  \n",
       "4       Doug Martin     3276.0  \n",
       "5          Eddy Cue    30460.0  \n",
       "6        Tom Harman     1829.0  \n",
       "7              None        NaN  \n",
       "8    Trevor Beattie     2640.0  \n",
       "9    Michael Phelps   713332.0  "
      ]
     },
     "metadata": {},
     "output_type": "display_data"
    }
   ],
   "source": [
    "display(test)\n",
    "test.to_pickle(path)"
   ]
  },
  {
   "cell_type": "code",
   "execution_count": 54,
   "metadata": {},
   "outputs": [
    {
     "name": "stdout",
     "output_type": "stream",
     "text": [
      "663329\n"
     ]
    }
   ],
   "source": [
    "print(get_page_views_per_year('Tim Cook', 2015))"
   ]
  },
  {
   "cell_type": "code",
   "execution_count": null,
   "metadata": {},
   "outputs": [],
   "source": [
    "quotes_pageviews = filtered_quotes.set_index('speaker').join(speaker_pageviews.set_index('speaker'))"
   ]
  },
  {
   "cell_type": "code",
   "execution_count": 142,
   "metadata": {},
   "outputs": [
    {
     "name": "stdout",
     "output_type": "stream",
     "text": [
      "data/wiki_speaker_attributes/pageviews_2015\n"
     ]
    }
   ],
   "source": [
    "year = 2015\n",
    "\n",
    "path = os.path.join('data/wiki_speaker_attributes/pageviews_'+str(year))\n",
    "\n",
    "print(path)"
   ]
  },
  {
   "cell_type": "code",
   "execution_count": null,
   "metadata": {},
   "outputs": [],
   "source": []
  }
 ],
 "metadata": {
  "interpreter": {
   "hash": "c74d7e7d97113514de40e96121eb5ba24204156bae1740c3c15b4c118766a645"
  },
  "kernelspec": {
   "display_name": "Python 3",
   "language": "python",
   "name": "python3"
  },
  "language_info": {
   "codemirror_mode": {
    "name": "ipython",
    "version": 3
   },
   "file_extension": ".py",
   "mimetype": "text/x-python",
   "name": "python",
   "nbconvert_exporter": "python",
   "pygments_lexer": "ipython3",
   "version": "3.8.8"
  }
 },
 "nbformat": 4,
 "nbformat_minor": 2
}
