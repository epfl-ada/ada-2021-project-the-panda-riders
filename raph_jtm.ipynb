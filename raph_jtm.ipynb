{
 "cells": [
  {
   "cell_type": "code",
   "execution_count": null,
   "metadata": {},
   "outputs": [],
   "source": [
    "# Imports you may need\n",
    "from dataloader import *\n",
    "from finance import *\n",
    "import pandas as pd\n",
    "from tqdm import tqdm\n",
    "\n",
    "from finance import stock, compare\n",
    "from quotebankexploration import *\n",
    "from wikipedia import *\n",
    "\n",
    "import vaderSentiment\n",
    "from vaderSentiment.vaderSentiment import SentimentIntensityAnalyzer\n",
    "\n",
    "import plotly.express as px\n",
    "import plotly.graph_objects as go\n",
    "import plotly.offline as py\n",
    "\n",
    "import numpy as np\n",
    "import seaborn as sns\n",
    "import matplotlib.pyplot as plt\n",
    "from matplotlib.ticker import PercentFormatter\n",
    "import yfinance as yf\n",
    "\n",
    "import plotly\n",
    "import plotly.figure_factory as ff\n",
    "import plotly.tools as tls\n",
    "import plotly.io as pio\n",
    "from plotly.subplots import make_subplots\n",
    "from plotly.offline import plot, iplot, init_notebook_mode\n",
    "from scipy import signal\n",
    "\n",
    "\n",
    "from ipywidgets import interactive, HBox, VBox, Checkbox\n",
    "\n",
    "%load_ext autoreload\n",
    "%autoreload 2\n",
    "\n",
    "tqdm.pandas()"
   ]
  },
  {
   "cell_type": "code",
   "execution_count": null,
   "metadata": {},
   "outputs": [],
   "source": [
    "# Get some data frames\n",
    "wiki_data = concat_wiki_files()\n",
    "filtered_quotes = get_filtered_quotes()\n",
    "speakers_id = pd.DataFrame(get_speakers_ids(filtered_quotes))\n",
    "speakers_labels = get_speakers_labels()"
   ]
  },
  {
   "cell_type": "code",
   "execution_count": null,
   "metadata": {},
   "outputs": [],
   "source": [
    "quotes_test = filtered_quotes.sample(100).reset_index(drop = True)\n",
    "id_test = pd.DataFrame(get_speakers_ids(quotes_test))\n",
    "labels_test = find_labels(id_test, wiki_data)"
   ]
  },
  {
   "cell_type": "code",
   "execution_count": null,
   "metadata": {},
   "outputs": [],
   "source": [
    "for year in range(2015, 2021):\n",
    "    labels_test[str(year)] = labels_test.label.apply(lambda label: get_pageviews_per_year(label, year))\n",
    "    print(year)"
   ]
  },
  {
   "cell_type": "code",
   "execution_count": null,
   "metadata": {},
   "outputs": [],
   "source": [
    "quotes_test['year'] = quotes_test.date.apply(lambda date: date.year)"
   ]
  },
  {
   "cell_type": "code",
   "execution_count": null,
   "metadata": {},
   "outputs": [],
   "source": [
    "yolo = quotes_test.set_index('speaker').join(labels_test.set_index('speaker'), lsuffix=\"_left\", rsuffix=\"_right\").reset_index()\n",
    "display(yolo)"
   ]
  },
  {
   "cell_type": "code",
   "execution_count": null,
   "metadata": {},
   "outputs": [],
   "source": [
    "def scoring(quotes):\n",
    "    try:\n",
    "        score = quotes[str(quotes['year'])]\n",
    "    except:\n",
    "        score = None\n",
    "    return score\n",
    "\n",
    "shit = yolo.copy()\n",
    "shit['score'] = yolo.apply(scoring, axis = 1)\n",
    "shit = shit.drop(['2015', '2016', '2017', '2018', '2019', '2020', 'year'], axis = 1)\n",
    "display(shit)"
   ]
  },
  {
   "cell_type": "markdown",
   "metadata": {},
   "source": [
    "# Feelings\n",
    "\n",
    "***"
   ]
  },
  {
   "cell_type": "code",
   "execution_count": null,
   "metadata": {},
   "outputs": [],
   "source": [
    "analyzer = SentimentIntensityAnalyzer()\n",
    "# determine the sentiment of a quote in a corpus (positive, negative or neutral)\n",
    "def sentiment(quote) : \n",
    "    vs = analyzer.polarity_scores(quote)['compound']\n",
    "    if (vs >= 1) :\n",
    "        return 1\n",
    "    if (vs <= - 1) :\n",
    "        return -1\n",
    "    else : return vs\n",
    "\n",
    "fuck = shit.copy()\n",
    "fuck['sentiment'] = fuck['quotation'].apply(sentiment) \n",
    "df_sent = fuck.groupby(['sentiment']).sum().reset_index()\n",
    "display(fuck)"
   ]
  },
  {
   "cell_type": "markdown",
   "metadata": {},
   "source": [
    "# Get back 2015 / 2016\n",
    "\n",
    "***"
   ]
  },
  {
   "cell_type": "code",
   "execution_count": null,
   "metadata": {},
   "outputs": [],
   "source": [
    "prout_2015 = pd.read_pickle('data/wiki_speaker_attributes/speakers_pageviews_2015')\n",
    "prout_2016 = pd.read_pickle('data/wiki_speaker_attributes/speakers_pageviews_2016')\n",
    "prout_2017 = pd.read_pickle('data/wiki_speaker_attributes/speakers_pageviews_2017')\n",
    "prout_2018 = pd.read_pickle('data/wiki_speaker_attributes/speakers_pageviews_2018')\n",
    "prout_2019 = pd.read_pickle('data/wiki_speaker_attributes/speakers_pageviews_2019')\n",
    "prout_2020 = pd.read_pickle('data/wiki_speaker_attributes/speakers_pageviews_2020')\n",
    "prout = prout_2015.copy()\n",
    "prout['2016'] = prout_2016['2016']\n",
    "prout['2017'] = prout_2017['2017']\n",
    "prout['2018'] = prout_2018['2018']\n",
    "prout['2019'] = prout_2019['2019']\n",
    "prout['2020'] = prout_2020['2020']"
   ]
  },
  {
   "cell_type": "code",
   "execution_count": null,
   "metadata": {},
   "outputs": [],
   "source": [
    "quotes_prout = filtered_quotes.copy()\n",
    "quotes_prout['year'] = quotes_prout.date.apply(lambda date: date.year)\n",
    "df = quotes_prout.set_index('speaker').join(prout.set_index('speaker'), lsuffix=\"_left\", rsuffix=\"_right\").reset_index()"
   ]
  },
  {
   "cell_type": "code",
   "execution_count": null,
   "metadata": {},
   "outputs": [],
   "source": [
    "df_ = df[df.year >= 2015].copy()\n",
    "df_['absolute_score'] = df.apply(scoring, axis = 1)\n",
    "df_ = df_.drop(['2015', '2016', '2017', '2018', '2019', '2020', 'year'], axis = 1)"
   ]
  },
  {
   "cell_type": "code",
   "execution_count": null,
   "metadata": {},
   "outputs": [],
   "source": [
    "df_final = df_.copy()\n",
    "df_final['sentiment'] = df_final['quotation'].progress_apply(sentiment)"
   ]
  },
  {
   "cell_type": "code",
   "execution_count": null,
   "metadata": {},
   "outputs": [],
   "source": [
    "def func_pos(row):\n",
    "    score = 0\n",
    "    if row.sentiment > 0:\n",
    "        score = row.absolute_score\n",
    "    return score\n",
    "\n",
    "def func_neg(row):\n",
    "    score = 0\n",
    "    if row.sentiment < 0:\n",
    "        score = -row.absolute_score\n",
    "    return score\n",
    "\n",
    "df_final_ = df_final.copy()\n",
    "df_final_['score_pos'] = df_final_.progress_apply(func_pos, axis = 1)\n",
    "df_final_['score_neg'] = df_final_.progress_apply(func_neg, axis = 1).abs()\n",
    "\n",
    "MIN = min(df_final_['score_pos'].min(), df_final_['score_neg'].min())\n",
    "MAX = max(df_final_['score_pos'].max(), df_final_['score_neg'].max())\n",
    "\n",
    "df_final_['score_pos'] = (df_final_['score_pos'] - MIN) / (MAX - MIN)\n",
    "df_final_['score_neg'] = -(df_final_['score_neg'] - MIN) / (MAX - MIN)\n",
    "\n",
    "df_final_ = df_final_[['date', 'score_pos', 'score_neg']].dropna().groupby(['date']).sum()\n",
    "df_final_ = df_final_.reset_index(drop = False)\n",
    "df_final_ = df_final_.sort_values(by=\"date\")\n",
    "\n",
    "df_final_ = pd.DataFrame(df_final_.groupby(df_final_.date.dt.date).sum())\n",
    "\n",
    "window = 7\n",
    "\n",
    "steve = df_final_.copy()\n",
    "steve['pos'] = steve.score_pos.rolling(window = window, min_periods = 1).mean()\n",
    "steve['neg'] = steve.score_neg.rolling(window = window, min_periods = 1).mean()\n",
    "# steve['pos'] = steve.score_pos.rolling(window=window, min_periods = 1, center = True, win_type='gaussian').mean(std=3)\n",
    "\n",
    "# steve['pos'][:window] = steve.score_pos[:window].mean()\n",
    "# steve['neg'][:window] = steve.score_neg[:window].mean()\n",
    "\n",
    "df_final_ = steve\n",
    "\n",
    "df_final_['score'] = df_final_.score_pos + df_final_.score_neg\n",
    "\n",
    "df_final_ = df_final_.reset_index(drop = False)\n",
    "\n",
    "display(df_final_)"
   ]
  },
  {
   "cell_type": "code",
   "execution_count": null,
   "metadata": {},
   "outputs": [],
   "source": [
    "df_final_.tail(1).date.values"
   ]
  },
  {
   "cell_type": "code",
   "execution_count": null,
   "metadata": {},
   "outputs": [],
   "source": [
    "stock_name = \"AAPL\"\n",
    "year_start = 2015\n",
    "year_end = 2020\n",
    "stock = yf.download(stock_name, start=f'{year_start}-01-01', end=f'{year_end}-12-31', progress = False)\n",
    "stock.reset_index(inplace=True)\n",
    "date_max = '2020-04-16'\n",
    "stock = stock[stock.Date <= date_max]"
   ]
  },
  {
   "cell_type": "code",
   "execution_count": null,
   "metadata": {},
   "outputs": [],
   "source": [
    "stock_analysis = stock.copy()\n",
    "stock_analysis['diff_'] = stock_analysis.Close - stock_analysis.Open\n",
    "\n",
    "window = 30\n",
    "\n",
    "stock_analysis['diff_mean'] = stock_analysis['diff_'].rolling(window = window, min_periods = 1).mean()\n",
    "\n",
    "stock_analysis['stock_price'] = (stock_analysis.Open + stock_analysis.Low) / 2\n",
    "\n",
    "display(stock_analysis)\n"
   ]
  },
  {
   "cell_type": "code",
   "execution_count": null,
   "metadata": {},
   "outputs": [],
   "source": [
    "from scipy.stats import pearsonr\n",
    "\n",
    "stock_analysis.Date = pd.to_datetime(stock_analysis.Date)\n",
    "df_final_.date = pd.to_datetime(df_final_.date)\n",
    "intersection_stock = pd.Index(stock_analysis.Date.isin(set(stock_analysis.Date).intersection(set(df_final_.date))))\n",
    "intersection_quotes = pd.Index(df_final_.date.isin(set(stock_analysis.Date).intersection(set(df_final_.date))))\n",
    "\n",
    "stock_analysis_keep = stock_analysis[intersection_stock]\n",
    "df_final_keep = df_final_[intersection_quotes]\n",
    "\n",
    "z = pearsonr(stock_analysis_keep.diff_ , df_final_keep.score) \n",
    "print(z)"
   ]
  },
  {
   "cell_type": "code",
   "execution_count": null,
   "metadata": {},
   "outputs": [],
   "source": [
    "(0.004640995842596226, 0.8681492519121116)"
   ]
  },
  {
   "cell_type": "code",
   "execution_count": null,
   "metadata": {},
   "outputs": [],
   "source": [
    "trace1 = go.Bar(\n",
    "    x = df_final_.date,\n",
    "    y = df_final_.score_pos,\n",
    "    name = 'Positive',\n",
    "    marker=dict(color='rgb(0,200,0)')\n",
    ")\n",
    "\n",
    "trace2 = go.Bar(\n",
    "    x = df_final_.date,\n",
    "    y = df_final_.score_neg,\n",
    "    name = 'Negative',\n",
    "    marker=dict(color='rgb(200,0,0)')\n",
    ")\n",
    "\n",
    "# ------------------------------------- #\n",
    "\n",
    "\n",
    "trace1 = go.Scatter(\n",
    "    x = df_final_.date,\n",
    "    y = signal.savgol_filter(df_final_.score_pos,\n",
    "                           53, # window size used for filtering\n",
    "                           3), # order of fitted polynomial\n",
    "    mode = 'lines',\n",
    "    name = 'Positive',\n",
    "    marker=dict(color='rgb(0,200,0)')\n",
    ")\n",
    "\n",
    "trace2 = go.Scatter(\n",
    "    x = df_final_.date,\n",
    "    y = signal.savgol_filter(df_final_.score_neg,\n",
    "                           53, # window size used for filtering\n",
    "                           3), # order of fitted polynomial\n",
    "    mode = 'lines',\n",
    "    name = 'Negative',\n",
    "    marker=dict(color='rgb(200,0,0)')\n",
    ")\n",
    "\n",
    "\n",
    "# -------------------------------------- #\n",
    "\n",
    "trace1 = go.Scatter(\n",
    "    x = df_final_.date,\n",
    "    y = df_final_.pos,\n",
    "    mode = 'lines',\n",
    "    name = 'Positive',\n",
    "    marker=dict(color='rgb(30,50,130)')\n",
    ")\n",
    "\n",
    "trace2 = go.Scatter(\n",
    "    x = df_final_.date,\n",
    "    y = df_final_.neg,\n",
    "    mode = 'lines',\n",
    "    name = 'Negative',\n",
    "    marker=dict(color='rgb(150,37,30)')\n",
    ")"
   ]
  },
  {
   "cell_type": "code",
   "execution_count": null,
   "metadata": {},
   "outputs": [],
   "source": [
    "trace1 = go.Scatter(\n",
    "    x = df_final_.date,\n",
    "    y = df_final_.pos,\n",
    "    mode = 'lines',\n",
    "    name = 'Positive',\n",
    "    marker=dict(color='rgb(30,50,130)')\n",
    ")\n",
    "\n",
    "trace2 = go.Scatter(\n",
    "    x = df_final_.date,\n",
    "    y = df_final_.neg,\n",
    "    mode = 'lines',\n",
    "    name = 'Negative',\n",
    "    marker=dict(color='rgb(150,37,30)')\n",
    ")\n",
    "\n",
    "trace3 = go.Scatter(\n",
    "    x = stock_analysis.Date,\n",
    "    y = stock_analysis.stock_price,\n",
    "    mode = 'lines',\n",
    "    name = 'Stock',\n",
    "    # marker=dict(color='rgb(250,125,62)'),\n",
    "    marker=dict(color='rgb(25,125,35)'),\n",
    "    opacity = 0.4\n",
    ")\n",
    "\n",
    "pio.renderers.default = \"notebook_connected\"\n",
    "fig = make_subplots(specs=[[{\"secondary_y\": True}]])\n",
    "fig.add_trace(trace3, secondary_y=True)\n",
    "fig.add_trace(trace1)\n",
    "fig.add_trace(trace2)\n",
    "fig['layout'].update(height = 600, width = 800, title = 'Bonsoir')\n",
    "fig.update_traces(marker_line_width = 0,\n",
    "                selector=dict(type=\"bar\"))\n",
    "\n",
    "add = 0.1\n",
    "y_max_quotes = max(-df_final_.neg.min(), df_final_.pos.max()) + add\n",
    "y_max_stock = max(-stock_analysis.stock_price.min(), stock_analysis.stock_price.max()) + add\n",
    "\n",
    "fig.update_yaxes(range=[-y_max_quotes, y_max_quotes], secondary_y=False)\n",
    "fig.update_yaxes(range=[-y_max_stock, y_max_stock], secondary_y=True)\n",
    "\n",
    "fig.update_xaxes(\n",
    "    rangeslider_visible=True,\n",
    "    rangeselector=dict(\n",
    "        buttons=list([\n",
    "            dict(count=1, label=\"1m\", step=\"month\", stepmode=\"backward\"),\n",
    "            dict(count=6, label=\"6m\", step=\"month\", stepmode=\"backward\"),\n",
    "            dict(count=1, label=\"1y\", step=\"year\", stepmode=\"backward\"),\n",
    "            dict(step=\"all\")\n",
    "        ])\n",
    "    )\n",
    ")\n",
    "\n",
    "fig.update_layout(bargap=0.1, bargroupgap = 0, template='ggplot2')\n",
    "iplot(fig)"
   ]
  },
  {
   "cell_type": "code",
   "execution_count": null,
   "metadata": {},
   "outputs": [],
   "source": [
    "fig = px.bar(df_final_, x='date', y='score_pos')\n",
    "fig.update_layout(\n",
    "title={\n",
    "        'text' : 'Distribution of the positive quotes according to time',\n",
    "        'x':0.5,\n",
    "        'xanchor': 'center'},\n",
    "xaxis_title_text='date', # xaxis label\n",
    "yaxis_title_text='frequency of positive quotes', # yaxis label\n",
    "bargap=0.2, # gap between bars of adjacent location coordinates\n",
    "bargroupgap=0.1 # gap between bars of the same location coordinates\n",
    ")\n",
    "fig.update_traces(marker_line_width = 0,\n",
    "                selector=dict(type=\"bar\"))\n",
    "\n",
    "fig.update_layout(bargap=0.1,\n",
    "                bargroupgap = 0,\n",
    "                )\n",
    "fig.show()"
   ]
  },
  {
   "cell_type": "markdown",
   "metadata": {},
   "source": [
    "# Graphics\n",
    "\n",
    "***"
   ]
  },
  {
   "cell_type": "code",
   "execution_count": null,
   "metadata": {},
   "outputs": [],
   "source": [
    "# separate the positive and negative quotes\n",
    "pos_quotes = fuck[fuck['sentiment'] == 'Positive']\n",
    "neg_quotes = fuck[fuck['sentiment'] == 'Negative']\n",
    "neut_quotes = fuck[fuck['sentiment'] == 'Neutral']"
   ]
  },
  {
   "cell_type": "code",
   "execution_count": null,
   "metadata": {},
   "outputs": [],
   "source": [
    "# plot the distribution of the neutral quotes according to time\n",
    "neut_per_day = pd.DataFrame(neut_quotes.groupby(neut_quotes.date.dt.date).count()['sentiment'])\n",
    "neut_per_day.index.rename('Date')\n",
    "neut_per_day.reset_index(inplace=True)\n",
    "\n",
    "# plot the distribution of the positive quotes according to time\n",
    "pos_per_day = pd.DataFrame(pos_quotes.groupby(pos_quotes.date.dt.date).count()['sentiment'])\n",
    "pos_per_day.index.rename('Date')\n",
    "pos_per_day.reset_index(inplace=True)\n",
    "\n",
    "# plot the distribution of the negative quotes according to time\n",
    "neg_per_day = pd.DataFrame(neg_quotes.groupby(neg_quotes.date.dt.date).count()['sentiment'])\n",
    "neg_per_day.index.rename('Date')\n",
    "neg_per_day.reset_index(inplace=True)"
   ]
  },
  {
   "cell_type": "code",
   "execution_count": null,
   "metadata": {},
   "outputs": [],
   "source": [
    "fig = px.bar(pos_per_day, x=pos_per_day['date'], y=pos_per_day['sentiment'])\n",
    "fig.update_layout(\n",
    "title={\n",
    "        'text' : 'Distribution of the positive quotes according to time',\n",
    "        'x':0.5,\n",
    "        'xanchor': 'center'},\n",
    "xaxis_title_text='date', # xaxis label\n",
    "yaxis_title_text='frequency of positive quotes', # yaxis label\n",
    "bargap=0.2, # gap between bars of adjacent location coordinates\n",
    "bargroupgap=0.1 # gap between bars of the same location coordinates\n",
    ")\n",
    "fig.update_traces(marker_line_width = 0,\n",
    "                selector=dict(type=\"bar\"))\n",
    "\n",
    "fig.update_layout(bargap=0.1,\n",
    "                bargroupgap = 0,\n",
    "                )\n",
    "fig.show()"
   ]
  },
  {
   "cell_type": "code",
   "execution_count": null,
   "metadata": {},
   "outputs": [],
   "source": [
    "fig = px.bar(neg_per_day, x=neg_per_day['date'], y=neg_per_day['sentiment'])\n",
    "fig.update_layout(\n",
    "title={\n",
    "        'text' : 'Distribution of the negative quotes according to time',\n",
    "        'x':0.5,\n",
    "        'xanchor': 'center'},\n",
    "xaxis_title_text='date', # xaxis label\n",
    "yaxis_title_text='frequency of negative quotes', # yaxis label\n",
    "bargap=0.2, # gap between bars of adjacent location coordinates\n",
    "bargroupgap=0.1 # gap between bars of the same location coordinates\n",
    ")\n",
    "fig.update_traces(marker_line_width = 0,\n",
    "                selector=dict(type=\"bar\"))\n",
    "\n",
    "fig.update_layout(bargap=0.1,\n",
    "                bargroupgap = 0,\n",
    "                )\n",
    "fig.show()"
   ]
  },
  {
   "cell_type": "code",
   "execution_count": null,
   "metadata": {},
   "outputs": [],
   "source": [
    "# Initialize figure\n",
    "all_quotes_per_day = pos_per_day.merge(neg_per_day, how=\"right\", on=\"date\").merge(neut_per_day, how=\"left\", on=\"date\")\n",
    "all_quotes_per_day.date = all_quotes_per_day.date.apply(lambda x : str(x))\n",
    "all_quotes_per_day.rename({\"sentiment_x\": \"Positive\", \"sentiment_y\": \"Negative\", \"sentiment\":\"Neutral\"},axis=1,inplace=True)\n",
    "all_quotes_per_day['All'] = all_quotes_per_day.Positive + all_quotes_per_day.Negative + all_quotes_per_day.Neutral\n",
    "\n",
    "\n",
    "fig = go.Figure()\n",
    "ymax = all_quotes_per_day.All.max()\n",
    "\n",
    "# Add Traces\n",
    "\n",
    "fig.add_trace(\n",
    "    go.Bar(x=all_quotes_per_day.date,\n",
    "            y=all_quotes_per_day.All,\n",
    "            name=\"All\",\n",
    "            marker_color=\"blue\"))\n",
    "\n",
    "fig.add_trace(\n",
    "    go.Bar(x=all_quotes_per_day.date,\n",
    "            y=all_quotes_per_day.Negative,\n",
    "            name=\"Negative\",\n",
    "                visible=False,\n",
    "            marker_color=\"red\"))\n",
    "\n",
    "fig.add_trace(\n",
    "    go.Bar(x=neut_per_day.date,\n",
    "            y=all_quotes_per_day.Positive,\n",
    "            name=\"Positive\",\n",
    "            visible = False,\n",
    "            marker_color=\"green\"))\n",
    "\n",
    "fig.add_trace(\n",
    "    go.Bar(x=neut_per_day.date,\n",
    "            y=all_quotes_per_day.Neutral,\n",
    "            name=\"Neutral\",\n",
    "                visible=False,\n",
    "            marker_color=\"gray\"))\n",
    "\n",
    "fig.update_layout(\n",
    "    updatemenus=[\n",
    "        dict(\n",
    "            type=\"buttons\",\n",
    "            direction=\"right\",\n",
    "            active=0,\n",
    "            x=0.57,\n",
    "            y=1.2,\n",
    "            buttons=list([\n",
    "                dict(label=\"All\",\n",
    "                    method=\"update\",\n",
    "                    args=[{\"visible\": [True, False, False, False]},\n",
    "                        {\"title\": \"All quotes\",\n",
    "                            \"annotations\": []}]),\n",
    "                dict(label=\"Negative\",\n",
    "                    method=\"update\",\n",
    "                    args=[{\"visible\": [False, True, False, False]},\n",
    "                        {\"title\": \"Negative quotes\"}]),\n",
    "                dict(label=\"Positive\",\n",
    "                    method=\"update\",\n",
    "                    args=[{\"visible\": [False, False, True, False]},\n",
    "                        {\"title\": \"Positive quotes\"}]),\n",
    "                dict(label=\"Neutral\",\n",
    "                    method=\"update\",\n",
    "                    args=[{\"visible\": [False, False, False, True]},\n",
    "                        {\"title\": \"Neutral quotes\"}]),\n",
    "            ]),\n",
    "        )\n",
    "    ])\n",
    "\n",
    "# Set title\n",
    "fig.update_layout(\n",
    "    title_text=\"All quotes\",\n",
    "    xaxis_domain=[0.05, 1.0],\n",
    "    yaxis_range =[0,ymax],\n",
    "    xaxis_title_text='Date', # xaxis label\n",
    "    yaxis_title_text='Frequency of quotes', # yaxis label\n",
    "    bargap=0.1,\n",
    "    bargroupgap = 0\n",
    ")\n",
    "fig.update_traces(marker_line_width = 0,\n",
    "                selector=dict(type=\"bar\"))\n",
    "fig.show()"
   ]
  },
  {
   "cell_type": "code",
   "execution_count": null,
   "metadata": {},
   "outputs": [],
   "source": [
    "from task3 import *\n",
    "task3()"
   ]
  },
  {
   "cell_type": "markdown",
   "metadata": {},
   "source": [
    "***"
   ]
  },
  {
   "cell_type": "code",
   "execution_count": null,
   "metadata": {},
   "outputs": [],
   "source": [
    "display(speakers_labels.head(10))"
   ]
  },
  {
   "cell_type": "code",
   "execution_count": null,
   "metadata": {},
   "outputs": [],
   "source": [
    "print(get_page_views_per_year('Shameel Joosub', 2015))"
   ]
  },
  {
   "cell_type": "code",
   "execution_count": null,
   "metadata": {},
   "outputs": [],
   "source": [
    "yolo = filtered_quotes.copy()\n",
    "yolo['year'] = filtered_quotes.date.apply(lambda date: date.year)\n",
    "display(yolo)"
   ]
  },
  {
   "cell_type": "code",
   "execution_count": null,
   "metadata": {},
   "outputs": [],
   "source": [
    "try_ = pd.DataFrame({'B': [0, 1, 2, 100, 4, 0, 1, 2, 100, 4]})\n",
    "try_.rolling(window = 3).mean()"
   ]
  },
  {
   "cell_type": "markdown",
   "metadata": {},
   "source": [
    "# Data selection for the model\n",
    "\n",
    "***"
   ]
  },
  {
   "cell_type": "code",
   "execution_count": null,
   "metadata": {},
   "outputs": [],
   "source": [
    "def func_pos(row):\n",
    "    score = 0\n",
    "    if row.sentiment > 0:\n",
    "        score = row.absolute_score\n",
    "    return score\n",
    "\n",
    "def func_neg(row):\n",
    "    score = 0\n",
    "    if row.sentiment < 0:\n",
    "        score = -row.absolute_score\n",
    "    return score"
   ]
  },
  {
   "cell_type": "code",
   "execution_count": null,
   "metadata": {},
   "outputs": [],
   "source": [
    "quotes_score = df_final.copy()\n",
    "\n",
    "quotes_score['positive'] = quotes_score.progress_apply(func_pos, axis = 1)\n",
    "quotes_score['negative'] = quotes_score.progress_apply(func_neg, axis = 1)\n",
    "\n",
    "quotes_score = quotes_score[['date', 'positive', 'negative']].dropna().groupby(['date']).sum()\n",
    "\n",
    "quotes_score['total'] = quotes_score.positive + quotes_score.positive\n",
    "\n",
    "quotes_score = quotes_score.reset_index(drop = False)\n",
    "\n",
    "display(quotes_score)"
   ]
  },
  {
   "cell_type": "code",
   "execution_count": null,
   "metadata": {},
   "outputs": [],
   "source": [
    "stock_name = \"AAPL\"\n",
    "year_start = 2015\n",
    "year_end = 2020\n",
    "\n",
    "apple_stock_market = yf.download(stock_name, start=f'{year_start}-01-01', end=f'{year_end}-12-31', progress = False)\n",
    "apple_stock_market.reset_index(inplace=True)\n",
    "date_max = '2020-04-16'\n",
    "apple_stock_market = apple_stock_market[apple_stock_market.Date <= date_max]\n",
    "\n",
    "apple_stock_market = apple_stock_market.copy()\n",
    "apple_stock_market['change'] = apple_stock_market.Close - apple_stock_market.Open\n",
    "\n",
    "apple_stock_market['date'] = apple_stock_market['Date']\n",
    "\n",
    "apple_stock_market = apple_stock_market[apple_stock_market.columns.difference(['Date'])]\n",
    "\n",
    "display(apple_stock_market)\n"
   ]
  },
  {
   "cell_type": "code",
   "execution_count": null,
   "metadata": {},
   "outputs": [],
   "source": [
    "apple_stock_market.to_pickle('data/apple_stock_market.pkl')\n",
    "quotes_score.to_pickle('data/quotes_score.pkl')"
   ]
  },
  {
   "cell_type": "code",
   "execution_count": null,
   "metadata": {},
   "outputs": [],
   "source": []
  }
 ],
 "metadata": {
  "interpreter": {
   "hash": "c74d7e7d97113514de40e96121eb5ba24204156bae1740c3c15b4c118766a645"
  },
  "kernelspec": {
   "display_name": "Python 3",
   "language": "python",
   "name": "python3"
  },
  "language_info": {
   "codemirror_mode": {
    "name": "ipython",
    "version": 3
   },
   "file_extension": ".py",
   "mimetype": "text/x-python",
   "name": "python",
   "nbconvert_exporter": "python",
   "pygments_lexer": "ipython3",
   "version": "3.8.12"
  }
 },
 "nbformat": 4,
 "nbformat_minor": 2
}
