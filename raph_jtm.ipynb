{
 "cells": [
  {
   "cell_type": "code",
   "execution_count": 1,
   "metadata": {},
   "outputs": [],
   "source": [
    "# Imports you may need\n",
    "from dataloader import *\n",
    "from finance import *\n",
    "import pandas as pd\n",
    "\n",
    "from finance import stock, compare\n",
    "from quotebankexploration import *\n",
    "from wikipedia import *\n",
    "\n",
    "%load_ext autoreload\n",
    "%autoreload 2"
   ]
  },
  {
   "cell_type": "code",
   "execution_count": 2,
   "metadata": {},
   "outputs": [],
   "source": [
    "# Get some data frames\n",
    "wiki_data = concat_wiki_files()\n",
    "filtered_quotes = get_filtered_quotes()\n",
    "speakers_id = pd.DataFrame(get_speakers_ids(filtered_quotes))\n",
    "speakers_labels = get_speakers_labels_one_file()"
   ]
  },
  {
   "cell_type": "code",
   "execution_count": null,
   "metadata": {},
   "outputs": [],
   "source": [
    "# test = speakers_labels.head(30)\n",
    "for year in range(2015, 2021):\n",
    "    path = os.path.join('data/wiki_speaker_attributes/speakers_pageviews_'+str(year))\n",
    "    speakers_labels[str(year)] = speakers_labels.label.apply(lambda label: get_page_views_per_year(label, year))\n",
    "    speakers_labels.to_pickle(path)\n",
    "    print(year)"
   ]
  },
  {
   "cell_type": "code",
   "execution_count": null,
   "metadata": {},
   "outputs": [],
   "source": [
    "display(speakers_labels.head(10))"
   ]
  },
  {
   "cell_type": "code",
   "execution_count": null,
   "metadata": {},
   "outputs": [],
   "source": [
    "print(get_page_views_per_year('Shameel Joosub', 2015))"
   ]
  },
  {
   "cell_type": "code",
   "execution_count": null,
   "metadata": {},
   "outputs": [],
   "source": [
    "yolo = filtered_quotes.copy()\n",
    "yolo['year'] = filtered_quotes.date.apply(lambda date: date.year)\n",
    "display(yolo)"
   ]
  }
 ],
 "metadata": {
  "interpreter": {
   "hash": "c74d7e7d97113514de40e96121eb5ba24204156bae1740c3c15b4c118766a645"
  },
  "kernelspec": {
   "display_name": "Python 3",
   "language": "python",
   "name": "python3"
  },
  "language_info": {
   "codemirror_mode": {
    "name": "ipython",
    "version": 3
   },
   "file_extension": ".py",
   "mimetype": "text/x-python",
   "name": "python",
   "nbconvert_exporter": "python",
   "pygments_lexer": "ipython3",
   "version": "3.8.12"
  }
 },
 "nbformat": 4,
 "nbformat_minor": 2
}
