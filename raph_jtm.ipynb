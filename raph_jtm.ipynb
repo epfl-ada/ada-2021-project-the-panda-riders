{
 "cells": [
  {
   "cell_type": "code",
   "execution_count": 1,
   "metadata": {},
   "outputs": [],
   "source": [
    "# Imports you may need\n",
    "from dataloader import *\n",
    "from finance import *\n",
    "import pandas as pd\n",
    "import pageviewapi \n",
    "\n",
    "from finance import stock, compare\n",
    "from quotebankexploration import *\n",
    "from wikipedia import *\n",
    "\n",
    "%load_ext autoreload\n",
    "%autoreload 2"
   ]
  },
  {
   "cell_type": "code",
   "execution_count": 3,
   "metadata": {},
   "outputs": [],
   "source": [
    "# Get some data frames\n",
    "wiki_data = concat_wiki_files()\n",
    "filtered_quotes = get_filtered_quotes()\n",
    "speakers_id = pd.DataFrame(get_speakers_ids(filtered_quotes))"
   ]
  },
  {
   "cell_type": "code",
   "execution_count": 26,
   "metadata": {},
   "outputs": [],
   "source": [
    "'''\n",
    "REMARK: ici, tu changes le numéro de ton cluster. Je m'explique, tu as 4\n",
    "clusters, donc tu mets un chiffre parmi {1, 2, 3, 4} selon le cluster que\n",
    "tu lances. (ex: le premier tu mets cluster = 1, le deuxième tu mets\n",
    "cluster = 2, etc...)\n",
    "'''\n",
    "cluster = 1\n",
    "\n",
    "# DO NOT TOUCH\n",
    "speakers_label = add_labels(speakers_id, wiki_data, save = True, cluster = cluster)"
   ]
  }
 ],
 "metadata": {
  "interpreter": {
   "hash": "c74d7e7d97113514de40e96121eb5ba24204156bae1740c3c15b4c118766a645"
  },
  "kernelspec": {
   "display_name": "Python 3",
   "language": "python",
   "name": "python3"
  },
  "language_info": {
   "codemirror_mode": {
    "name": "ipython",
    "version": 3
   },
   "file_extension": ".py",
   "mimetype": "text/x-python",
   "name": "python",
   "nbconvert_exporter": "python",
   "pygments_lexer": "ipython3",
   "version": "3.8.8"
  }
 },
 "nbformat": 4,
 "nbformat_minor": 2
}
